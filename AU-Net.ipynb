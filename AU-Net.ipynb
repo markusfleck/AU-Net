{
 "cells": [
  {
   "cell_type": "code",
   "execution_count": 1,
   "metadata": {},
   "outputs": [],
   "source": [
    "import torch"
   ]
  },
  {
   "cell_type": "code",
   "execution_count": 73,
   "metadata": {},
   "outputs": [],
   "source": [
    "class Down_Conv(torch.nn.Module):\n",
    "            def __init__(self, in_dims, allow_crop = True):\n",
    "            \n",
    "                assert in_dims[1] == in_dims[2]  # for now, only allow quadratic input images\n",
    "                \n",
    "                super(Down_Conv, self).__init__()\n",
    "                self.in_channels, self.in_img_dim1, self.in_img_dim2 = in_dims\n",
    "                assert (self.in_img_dim1 % 4, self.in_img_dim2 % 4) == (0, 0)\n",
    "                self.allow_crop = allow_crop\n",
    "                self.crop = ( (self.in_img_dim1 // 4) % 2 == 1)\n",
    "                #self.crop = False # --------------------\n",
    "                \n",
    "                self.conv1 = torch.nn.Conv2d(self.in_channels, self.in_channels * 2, kernel_size = 3, padding = 1)\n",
    "                self.conv2 = torch.nn.Conv2d(self.in_channels * 2, self.in_channels  * 2, kernel_size = 3, padding = 1)\n",
    "                self.maxpool = torch.nn.MaxPool2d(kernel_size = 2, stride = 2)\n",
    "                \n",
    "                self.out_dims = (self.in_channels * 2, self.in_img_dim1 // 2, self.in_img_dim2 // 2)\n",
    "                print((self.in_channels, self.in_img_dim1, self.in_img_dim2), self.out_dims)\n",
    "                if (self.crop and self.allow_crop):\n",
    "                    self.out_dims = (self.out_dims[0], self.out_dims[1] - 2, self.out_dims[2] - 2)\n",
    "                print((self.in_channels, self.in_img_dim1, self.in_img_dim2), self.out_dims)\n",
    "                print()\n",
    "                \n",
    "            def forward(self, x):\n",
    "                #print(x.shape)\n",
    "                x = self.conv1(x)\n",
    "                #print(x.shape)\n",
    "                x = self.conv2(x)\n",
    "                #print(x.shape)\n",
    "                x = self.maxpool(x)\n",
    "                #print(x.shape)\n",
    "                #print()\n",
    "                \n",
    "                if(self.crop):\n",
    "                    return x, x[:, :, 1:-1, 1:-1 ]\n",
    "                return x, x\n",
    "\n",
    "\n",
    "class AUnet(torch.nn.Module):\n",
    "    def __init__(self, depth = 4, input_dims = (3, 300, 300), top_channels = 64):\n",
    "        \n",
    "        assert top_channels % 2 == 0\n",
    "        \n",
    "        super(AUnet, self).__init__()\n",
    "        self.depth = depth\n",
    "        self.top_channels = top_channels\n",
    "        self.input_adapter_conv = torch.nn.Conv2d(input_dims[0], top_channels // 2, kernel_size = 1)\n",
    "        \n",
    "        self.down_convs = []\n",
    "        assert input_dims[1] == input_dims[2] # for now, only allow quadratic input images\n",
    "        in_dims = (top_channels // 2, input_dims[1], input_dims[2]) \n",
    "        for i in range(self.depth - 1):\n",
    "            self.down_convs.append(Down_Conv(in_dims))\n",
    "            #print(in_dims, self.down_convs[-1].out_dims)\n",
    "            in_dims = self.down_convs[-1].out_dims\n",
    "            #print(in_dims)\n",
    "        self.down_convs.append(Down_Conv(in_dims, allow_crop = False))\n",
    "            \n",
    "    def forward(self, x):\n",
    "        concats = []\n",
    "        \n",
    "        #print(x.shape)\n",
    "        x1 = self.input_adapter_conv(x)\n",
    "        #print(x1.shape)\n",
    "        for i in range(self.depth):\n",
    "            x0, x1 = self.down_convs[i](x1)\n",
    "            #print(x0.shape, x1.shape)\n",
    "            #print()\n",
    "            concats.append(x0)\n",
    "        \n",
    "        #print(x1.shape)\n",
    "        return x1\n",
    "            \n",
    "            \n",
    "    \n",
    "    #def forward(self, x):\n",
    "    #    x1 = torch.nn.Conv2d(x.shape[-3], 512, kernel_size = 3)(x)\n",
    "    #    return x1"
   ]
  },
  {
   "cell_type": "code",
   "execution_count": 74,
   "metadata": {},
   "outputs": [
    {
     "name": "stdout",
     "output_type": "stream",
     "text": [
      "(32, 300, 300) (64, 150, 150)\n",
      "(32, 300, 300) (64, 148, 148)\n",
      "\n",
      "(64, 148, 148) (128, 74, 74)\n",
      "(64, 148, 148) (128, 72, 72)\n",
      "\n",
      "(128, 72, 72) (256, 36, 36)\n",
      "(128, 72, 72) (256, 36, 36)\n",
      "\n",
      "(256, 36, 36) (512, 18, 18)\n",
      "(256, 36, 36) (512, 18, 18)\n",
      "\n"
     ]
    }
   ],
   "source": [
    "img = torch.rand((1, 3, 300, 300))\n",
    "\n",
    "for depth in range(4,5): \n",
    "    aunet = AUnet(depth = depth, input_dims = (3, 300, 300), top_channels = 64)\n",
    "    out = aunet(img)\n",
    "    #print(depth, out.shape)\n",
    "\n"
   ]
  },
  {
   "cell_type": "code",
   "execution_count": null,
   "metadata": {},
   "outputs": [],
   "source": []
  }
 ],
 "metadata": {
  "kernelspec": {
   "display_name": "Python 3",
   "language": "python",
   "name": "python3"
  },
  "language_info": {
   "codemirror_mode": {
    "name": "ipython",
    "version": 3
   },
   "file_extension": ".py",
   "mimetype": "text/x-python",
   "name": "python",
   "nbconvert_exporter": "python",
   "pygments_lexer": "ipython3",
   "version": "3.7.9"
  }
 },
 "nbformat": 4,
 "nbformat_minor": 4
}
